{
 "cells": [
  {
   "cell_type": "code",
   "execution_count": 3,
   "metadata": {
    "collapsed": true,
    "ExecuteTime": {
     "start_time": "2023-04-21T18:33:42.762750Z",
     "end_time": "2023-04-21T18:33:42.764600Z"
    }
   },
   "outputs": [],
   "source": [
    "import spacy\n",
    "from random import choice\n",
    "from spacy.lang.it.examples import sentences"
   ]
  },
  {
   "cell_type": "code",
   "execution_count": 4,
   "outputs": [
    {
     "name": "stdout",
     "output_type": "stream",
     "text": [
      "San Francisco prevede di bandire i robot di consegna porta a porta\n",
      "San PROPN nsubj\n",
      "Francisco PROPN flat:name\n",
      "prevede VERB ROOT\n",
      "di ADP mark\n",
      "bandire VERB xcomp\n",
      "i DET det\n",
      "robot NOUN obj\n",
      "di ADP case\n",
      "consegna NOUN nmod\n",
      "porta VERB advcl\n",
      "a ADP case\n",
      "porta NOUN obl\n"
     ]
    }
   ],
   "source": [
    "nlp = spacy.load(\"it_core_news_sm\")\n",
    "doc = nlp(choice(sentences))\n",
    "print(doc.text)\n",
    "for token in doc: print(token.text, token.pos_, token.dep_)"
   ],
   "metadata": {
    "collapsed": false,
    "ExecuteTime": {
     "start_time": "2023-04-21T18:33:42.766034Z",
     "end_time": "2023-04-21T18:33:43.227362Z"
    }
   }
  }
 ],
 "metadata": {
  "kernelspec": {
   "display_name": "Python 3",
   "language": "python",
   "name": "python3"
  },
  "language_info": {
   "codemirror_mode": {
    "name": "ipython",
    "version": 2
   },
   "file_extension": ".py",
   "mimetype": "text/x-python",
   "name": "python",
   "nbconvert_exporter": "python",
   "pygments_lexer": "ipython2",
   "version": "2.7.6"
  }
 },
 "nbformat": 4,
 "nbformat_minor": 0
}
