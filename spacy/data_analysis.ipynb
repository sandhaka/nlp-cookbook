{
 "cells": [
  {
   "cell_type": "code",
   "execution_count": 12,
   "metadata": {
    "collapsed": true,
    "ExecuteTime": {
     "start_time": "2023-04-22T18:51:16.793056Z",
     "end_time": "2023-04-22T18:51:16.794693Z"
    }
   },
   "outputs": [
    {
     "name": "stdout",
     "output_type": "stream",
     "text": [
      "7211811266693931283\n",
      "automobile\n"
     ]
    }
   ],
   "source": [
    "# Hashing\n",
    "import spacy\n",
    "nlp = spacy.blank(\"it\")\n",
    "_ = nlp(\"Lunedì andrò in ufficio in automobile\")\n",
    "word_hash = nlp.vocab.strings[\"automobile\"]\n",
    "print(word_hash)\n",
    "print(nlp.vocab.strings[word_hash])"
   ]
  },
  {
   "cell_type": "code",
   "execution_count": 13,
   "outputs": [
    {
     "name": "stdout",
     "output_type": "stream",
     "text": [
      "Hello world!\n",
      "Hello world\n"
     ]
    }
   ],
   "source": [
    "from spacy.tokens import Doc, Span\n",
    "\n",
    "# The words and spaces to create the doc from\n",
    "words = [\"Hello\", \"world\", \"!\"]\n",
    "spaces = [True, False, False]\n",
    "\n",
    "# Create a doc manually\n",
    "doc = Doc(nlp.vocab, words=words, spaces=spaces)\n",
    "\n",
    "# Create a span manually\n",
    "span = Span(doc, 0, 2)\n",
    "\n",
    "# Create a span with a label\n",
    "span_with_label = Span(doc, 0, 2, label=\"GREETING\")\n",
    "\n",
    "# Add span to the doc.ents\n",
    "doc.ents = [span_with_label]\n",
    "\n",
    "print(doc.text)\n",
    "for ent in doc.ents:\n",
    "    print(ent)"
   ],
   "metadata": {
    "collapsed": false,
    "ExecuteTime": {
     "start_time": "2023-04-22T18:51:16.796727Z",
     "end_time": "2023-04-22T18:51:16.798317Z"
    }
   }
  },
  {
   "cell_type": "code",
   "execution_count": 14,
   "outputs": [
    {
     "name": "stdout",
     "output_type": "stream",
     "text": [
      "Found proper noun before a verb: Berlin\n"
     ]
    }
   ],
   "source": [
    "nlp = spacy.load(\"en_core_web_sm\")\n",
    "doc = nlp(\"Berlin looks like a nice city\")\n",
    "\n",
    "# Get all tokens and part-of-speech tags\n",
    "for token in doc:\n",
    "    if token.pos_ == \"PROPN\":\n",
    "        next_token = doc[token.i + 1]\n",
    "        if next_token.pos_ == \"VERB\":\n",
    "            print(\"Found proper noun before a verb:\", doc[token.i])"
   ],
   "metadata": {
    "collapsed": false,
    "ExecuteTime": {
     "start_time": "2023-04-22T18:51:16.799701Z",
     "end_time": "2023-04-22T18:51:17.080882Z"
    }
   }
  },
  {
   "cell_type": "code",
   "execution_count": 15,
   "outputs": [
    {
     "name": "stdout",
     "output_type": "stream",
     "text": [
      "0.9758854418212424\n",
      "0.5835631668074686\n"
     ]
    }
   ],
   "source": [
    "# Similarity\n",
    "\n",
    "# Load a larger pipeline with vectors\n",
    "nlp = spacy.load(\"en_core_web_md\")\n",
    "\n",
    "doc1 = nlp(\"Milano looks like a nice city\")\n",
    "doc2 = nlp(\"Firenze looks like a nice city\")\n",
    "doc3 = nlp(\"Roma is the larger city\")\n",
    "\n",
    "print(doc1.similarity(doc2))\n",
    "print(doc1.similarity(doc3))"
   ],
   "metadata": {
    "collapsed": false,
    "ExecuteTime": {
     "start_time": "2023-04-22T18:51:17.081682Z",
     "end_time": "2023-04-22T18:51:17.754722Z"
    }
   }
  },
  {
   "cell_type": "code",
   "execution_count": 15,
   "outputs": [],
   "source": [],
   "metadata": {
    "collapsed": false,
    "ExecuteTime": {
     "start_time": "2023-04-22T18:51:17.755839Z",
     "end_time": "2023-04-22T18:51:17.756858Z"
    }
   }
  }
 ],
 "metadata": {
  "kernelspec": {
   "display_name": "Python 3",
   "language": "python",
   "name": "python3"
  },
  "language_info": {
   "codemirror_mode": {
    "name": "ipython",
    "version": 2
   },
   "file_extension": ".py",
   "mimetype": "text/x-python",
   "name": "python",
   "nbconvert_exporter": "python",
   "pygments_lexer": "ipython2",
   "version": "2.7.6"
  }
 },
 "nbformat": 4,
 "nbformat_minor": 0
}
