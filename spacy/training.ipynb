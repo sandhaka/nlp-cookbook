{
 "cells": [
  {
   "cell_type": "markdown",
   "source": [
    "### Training and updating models\n",
    "You can usually make the model more accurate by showing it examples from your domain.\n",
    "You often also want to predict categories specific to your problem, so the model needs to learn about them.\n",
    "This is essential for text classification, very useful for entity recognition and a little less critical for tagging and parsing."
   ],
   "metadata": {
    "collapsed": false
   }
  },
  {
   "cell_type": "code",
   "execution_count": null,
   "outputs": [],
   "source": [],
   "metadata": {
    "collapsed": false
   }
  }
 ],
 "metadata": {
  "kernelspec": {
   "display_name": "Python 3",
   "language": "python",
   "name": "python3"
  },
  "language_info": {
   "codemirror_mode": {
    "name": "ipython",
    "version": 2
   },
   "file_extension": ".py",
   "mimetype": "text/x-python",
   "name": "python",
   "nbconvert_exporter": "python",
   "pygments_lexer": "ipython2",
   "version": "2.7.6"
  }
 },
 "nbformat": 4,
 "nbformat_minor": 0
}
