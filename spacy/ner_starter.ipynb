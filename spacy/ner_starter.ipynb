{
 "cells": [
  {
   "cell_type": "code",
   "execution_count": 20,
   "metadata": {
    "collapsed": true,
    "ExecuteTime": {
     "start_time": "2023-04-21T18:29:43.840700Z",
     "end_time": "2023-04-21T18:29:44.134031Z"
    }
   },
   "outputs": [],
   "source": [
    "import spacy\n",
    "from spacy import displacy\n",
    "NER = spacy.load(\"en_core_web_sm\")"
   ]
  },
  {
   "cell_type": "code",
   "execution_count": null,
   "outputs": [],
   "source": [
    "raw_text = \"\"\"\n",
    "Confirmation Number: 5609345678\n",
    "Hello Matteo,\n",
    "We’re happy to let you know that we’ve received your order.\n",
    "Once your package ships, we will send you an email with a tracking number and link so you can see the movement of your package.\n",
    "If you have any questions, contact us here or call us on 840 987 321(2)!\n",
    "We are here to help!\n",
    "Returns: If you would like to return your product(s), please see here [link] or contact us.\n",
    "Best Regards\n",
    "Staff\n",
    "\"\"\""
   ],
   "metadata": {
    "collapsed": false,
    "ExecuteTime": {
     "start_time": "2023-04-21T18:29:43.840840Z",
     "end_time": "2023-04-21T18:29:44.136284Z"
    },
    "pycharm": {
     "is_executing": true
    }
   }
  },
  {
   "cell_type": "code",
   "execution_count": null,
   "outputs": [],
   "source": [
    "text = NER(raw_text)"
   ],
   "metadata": {
    "collapsed": false,
    "ExecuteTime": {
     "start_time": "2023-04-21T18:29:43.840884Z",
     "end_time": "2023-04-21T18:29:44.158726Z"
    },
    "pycharm": {
     "is_executing": true
    }
   }
  },
  {
   "cell_type": "code",
   "execution_count": 23,
   "outputs": [],
   "source": [
    "for e in text.ents:\n",
    "    print(e.text, e.label_)"
   ],
   "metadata": {
    "collapsed": false,
    "ExecuteTime": {
     "start_time": "2023-04-21T18:29:43.840911Z",
     "end_time": "2023-04-21T18:29:44.161472Z"
    }
   }
  }
 ],
 "metadata": {
  "kernelspec": {
   "display_name": "Python 3",
   "language": "python",
   "name": "python3"
  },
  "language_info": {
   "codemirror_mode": {
    "name": "ipython",
    "version": 2
   },
   "file_extension": ".py",
   "mimetype": "text/x-python",
   "name": "python",
   "nbconvert_exporter": "python",
   "pygments_lexer": "ipython2",
   "version": "2.7.6"
  }
 },
 "nbformat": 4,
 "nbformat_minor": 0
}
