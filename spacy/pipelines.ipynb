{
 "cells": [
  {
   "cell_type": "code",
   "execution_count": 10,
   "outputs": [
    {
     "name": "stdout",
     "output_type": "stream",
     "text": [
      "This is a sentence\n"
     ]
    }
   ],
   "source": [
    "# Doc object\n",
    "import spacy\n",
    "nlp = spacy.load(\"en_core_web_sm\")\n",
    "doc = nlp(\"This is a sentence\")\n",
    "print(doc)"
   ],
   "metadata": {
    "collapsed": false,
    "ExecuteTime": {
     "start_time": "2023-04-24T12:01:33.256558Z",
     "end_time": "2023-04-24T12:01:33.616591Z"
    }
   }
  },
  {
   "cell_type": "markdown",
   "source": [
    "#### Pipeline components"
   ],
   "metadata": {
    "collapsed": false
   }
  },
  {
   "cell_type": "markdown",
   "source": [
    "#### Tagger"
   ],
   "metadata": {
    "collapsed": false
   }
  },
  {
   "cell_type": "code",
   "execution_count": 11,
   "outputs": [
    {
     "name": "stdout",
     "output_type": "stream",
     "text": [
      "This: \n",
      "[.tag] 15267657372422890137, part-of-speech tag Id\n",
      "[.pos] 95, position in the sentence\n",
      "\n",
      "is: \n",
      "[.tag] 13927759927860985106, part-of-speech tag Id\n",
      "[.pos] 87, position in the sentence\n",
      "\n",
      "a: \n",
      "[.tag] 15267657372422890137, part-of-speech tag Id\n",
      "[.pos] 90, position in the sentence\n",
      "\n",
      "sentence: \n",
      "[.tag] 15308085513773655218, part-of-speech tag Id\n",
      "[.pos] 92, position in the sentence\n",
      "\n"
     ]
    }
   ],
   "source": [
    "for token in doc:\n",
    "    print(f'{token.text}: ')\n",
    "    print(f'[.tag] {token.tag}, part-of-speech tag Id')\n",
    "    print(f'[.pos] {token.pos}, position in the sentence')\n",
    "    print(\"\")\n"
   ],
   "metadata": {
    "collapsed": false,
    "ExecuteTime": {
     "start_time": "2023-04-24T12:01:33.617064Z",
     "end_time": "2023-04-24T12:01:33.619087Z"
    }
   }
  },
  {
   "cell_type": "markdown",
   "source": [
    "#### Parser"
   ],
   "metadata": {
    "collapsed": false
   }
  },
  {
   "cell_type": "code",
   "execution_count": 12,
   "outputs": [
    {
     "name": "stdout",
     "output_type": "stream",
     "text": [
      "This: \n",
      "[.head] is, syntactic parent of the token, if hase one\n",
      "[.dep] 429, syntactic dependency id\n",
      "[.sent] This is a sentence, relative sentence span\n",
      "\n",
      "is: \n",
      "[.head] is, syntactic parent of the token, if hase one\n",
      "[.dep] 8206900633647566924, syntactic dependency id\n",
      "[.sent] This is a sentence, relative sentence span\n",
      "\n",
      "a: \n",
      "[.head] sentence, syntactic parent of the token, if hase one\n",
      "[.dep] 415, syntactic dependency id\n",
      "[.sent] This is a sentence, relative sentence span\n",
      "\n",
      "sentence: \n",
      "[.head] is, syntactic parent of the token, if hase one\n",
      "[.dep] 404, syntactic dependency id\n",
      "[.sent] This is a sentence, relative sentence span\n",
      "\n"
     ]
    }
   ],
   "source": [
    "for token in doc:\n",
    "    print(f'{token.text}: ')\n",
    "    print(f'[.head] {token.head if token.has_head() else None}, syntactic parent of the token, if hase one')\n",
    "    print(f'[.dep] {token.dep}, syntactic dependency id')\n",
    "    print(f'[.sent] {token.sent}, relative sentence span')\n",
    "    print(\"\")"
   ],
   "metadata": {
    "collapsed": false,
    "ExecuteTime": {
     "start_time": "2023-04-24T12:01:33.619549Z",
     "end_time": "2023-04-24T12:01:33.621411Z"
    }
   }
  },
  {
   "cell_type": "markdown",
   "source": [
    "#### Named Entity recognizer"
   ],
   "metadata": {
    "collapsed": false
   }
  },
  {
   "cell_type": "code",
   "execution_count": 13,
   "outputs": [],
   "source": [
    "for ent in doc.ents:\n",
    "    print(f'{ent.text}: ')\n",
    "    print(f'{ent}')"
   ],
   "metadata": {
    "collapsed": false,
    "ExecuteTime": {
     "start_time": "2023-04-24T12:01:33.622255Z",
     "end_time": "2023-04-24T12:01:33.623721Z"
    }
   }
  },
  {
   "cell_type": "markdown",
   "source": [
    "#### Text classifier"
   ],
   "metadata": {
    "collapsed": false
   }
  },
  {
   "cell_type": "code",
   "execution_count": 14,
   "outputs": [],
   "source": [
    "for c in doc.cats:\n",
    "    print(f'{c}')"
   ],
   "metadata": {
    "collapsed": false,
    "ExecuteTime": {
     "start_time": "2023-04-24T12:01:33.623944Z",
     "end_time": "2023-04-24T12:01:33.625112Z"
    }
   }
  },
  {
   "cell_type": "markdown",
   "source": [
    "Because text categories are always very specific, the text classifier is not included in any of the trained pipelines by default. But you can use it to train your own system."
   ],
   "metadata": {
    "collapsed": false
   }
  }
 ],
 "metadata": {
  "kernelspec": {
   "display_name": "Python 3",
   "language": "python",
   "name": "python3"
  },
  "language_info": {
   "codemirror_mode": {
    "name": "ipython",
    "version": 2
   },
   "file_extension": ".py",
   "mimetype": "text/x-python",
   "name": "python",
   "nbconvert_exporter": "python",
   "pygments_lexer": "ipython2",
   "version": "2.7.6"
  }
 },
 "nbformat": 4,
 "nbformat_minor": 0
}
